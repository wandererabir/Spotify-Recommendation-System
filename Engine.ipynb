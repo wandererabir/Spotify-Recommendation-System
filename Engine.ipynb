{
 "cells": [
  {
   "cell_type": "code",
   "execution_count": 9,
   "metadata": {},
   "outputs": [],
   "source": [
    "import pandas as pd\n",
    "import numpy as np\n",
    "import json\n",
    "import re \n",
    "import sys\n",
    "import itertools\n",
    "import statistics\n",
    "\n",
    "from sklearn.feature_extraction.text import TfidfVectorizer\n",
    "from sklearn.metrics.pairwise import cosine_similarity\n",
    "from sklearn.preprocessing import MinMaxScaler\n",
    "import matplotlib.pyplot as plt\n",
    "\n",
    "\n",
    "import spotipy\n",
    "from spotipy.oauth2 import SpotifyClientCredentials\n",
    "from spotipy.oauth2 import SpotifyOAuth\n",
    "import spotipy.util as util\n",
    "\n",
    "import warnings\n",
    "warnings.filterwarnings(\"ignore\")\n",
    "\n",
    "%matplotlib inline"
   ]
  },
  {
   "cell_type": "code",
   "execution_count": 10,
   "metadata": {},
   "outputs": [],
   "source": [
    "sp_df = pd.read_csv('SpotifyFeatures.csv')"
   ]
  },
  {
   "cell_type": "code",
   "execution_count": 11,
   "metadata": {},
   "outputs": [],
   "source": [
    "sp_df['artist_name']=sp_df['artist_name'].str.upper()\n",
    "sp_df['track_name']=sp_df['track_name'].str.upper()"
   ]
  },
  {
   "cell_type": "code",
   "execution_count": 12,
   "metadata": {},
   "outputs": [
    {
     "data": {
      "text/html": [
       "<div>\n",
       "<style scoped>\n",
       "    .dataframe tbody tr th:only-of-type {\n",
       "        vertical-align: middle;\n",
       "    }\n",
       "\n",
       "    .dataframe tbody tr th {\n",
       "        vertical-align: top;\n",
       "    }\n",
       "\n",
       "    .dataframe thead th {\n",
       "        text-align: right;\n",
       "    }\n",
       "</style>\n",
       "<table border=\"1\" class=\"dataframe\">\n",
       "  <thead>\n",
       "    <tr style=\"text-align: right;\">\n",
       "      <th></th>\n",
       "      <th>genre</th>\n",
       "      <th>artist_name</th>\n",
       "      <th>track_name</th>\n",
       "      <th>track_id</th>\n",
       "      <th>popularity</th>\n",
       "      <th>acousticness</th>\n",
       "      <th>danceability</th>\n",
       "      <th>duration_ms</th>\n",
       "      <th>energy</th>\n",
       "      <th>instrumentalness</th>\n",
       "      <th>key</th>\n",
       "      <th>liveness</th>\n",
       "      <th>loudness</th>\n",
       "      <th>mode</th>\n",
       "      <th>speechiness</th>\n",
       "      <th>tempo</th>\n",
       "      <th>time_signature</th>\n",
       "      <th>valence</th>\n",
       "    </tr>\n",
       "  </thead>\n",
       "  <tbody>\n",
       "    <tr>\n",
       "      <th>0</th>\n",
       "      <td>Movie</td>\n",
       "      <td>HENRI SALVADOR</td>\n",
       "      <td>C'EST BEAU DE FAIRE UN SHOW</td>\n",
       "      <td>0BRjO6ga9RKCKjfDqeFgWV</td>\n",
       "      <td>0</td>\n",
       "      <td>0.61100</td>\n",
       "      <td>0.389</td>\n",
       "      <td>99373</td>\n",
       "      <td>0.910</td>\n",
       "      <td>0.000000</td>\n",
       "      <td>C#</td>\n",
       "      <td>0.3460</td>\n",
       "      <td>-1.828</td>\n",
       "      <td>Major</td>\n",
       "      <td>0.0525</td>\n",
       "      <td>166.969</td>\n",
       "      <td>4/4</td>\n",
       "      <td>0.814</td>\n",
       "    </tr>\n",
       "    <tr>\n",
       "      <th>1</th>\n",
       "      <td>Movie</td>\n",
       "      <td>MARTIN &amp; LES FÉES</td>\n",
       "      <td>PERDU D'AVANCE (PAR GAD ELMALEH)</td>\n",
       "      <td>0BjC1NfoEOOusryehmNudP</td>\n",
       "      <td>1</td>\n",
       "      <td>0.24600</td>\n",
       "      <td>0.590</td>\n",
       "      <td>137373</td>\n",
       "      <td>0.737</td>\n",
       "      <td>0.000000</td>\n",
       "      <td>F#</td>\n",
       "      <td>0.1510</td>\n",
       "      <td>-5.559</td>\n",
       "      <td>Minor</td>\n",
       "      <td>0.0868</td>\n",
       "      <td>174.003</td>\n",
       "      <td>4/4</td>\n",
       "      <td>0.816</td>\n",
       "    </tr>\n",
       "    <tr>\n",
       "      <th>2</th>\n",
       "      <td>Movie</td>\n",
       "      <td>JOSEPH WILLIAMS</td>\n",
       "      <td>DON'T LET ME BE LONELY TONIGHT</td>\n",
       "      <td>0CoSDzoNIKCRs124s9uTVy</td>\n",
       "      <td>3</td>\n",
       "      <td>0.95200</td>\n",
       "      <td>0.663</td>\n",
       "      <td>170267</td>\n",
       "      <td>0.131</td>\n",
       "      <td>0.000000</td>\n",
       "      <td>C</td>\n",
       "      <td>0.1030</td>\n",
       "      <td>-13.879</td>\n",
       "      <td>Minor</td>\n",
       "      <td>0.0362</td>\n",
       "      <td>99.488</td>\n",
       "      <td>5/4</td>\n",
       "      <td>0.368</td>\n",
       "    </tr>\n",
       "    <tr>\n",
       "      <th>3</th>\n",
       "      <td>Movie</td>\n",
       "      <td>HENRI SALVADOR</td>\n",
       "      <td>DIS-MOI MONSIEUR GORDON COOPER</td>\n",
       "      <td>0Gc6TVm52BwZD07Ki6tIvf</td>\n",
       "      <td>0</td>\n",
       "      <td>0.70300</td>\n",
       "      <td>0.240</td>\n",
       "      <td>152427</td>\n",
       "      <td>0.326</td>\n",
       "      <td>0.000000</td>\n",
       "      <td>C#</td>\n",
       "      <td>0.0985</td>\n",
       "      <td>-12.178</td>\n",
       "      <td>Major</td>\n",
       "      <td>0.0395</td>\n",
       "      <td>171.758</td>\n",
       "      <td>4/4</td>\n",
       "      <td>0.227</td>\n",
       "    </tr>\n",
       "    <tr>\n",
       "      <th>4</th>\n",
       "      <td>Movie</td>\n",
       "      <td>FABIEN NATAF</td>\n",
       "      <td>OUVERTURE</td>\n",
       "      <td>0IuslXpMROHdEPvSl1fTQK</td>\n",
       "      <td>4</td>\n",
       "      <td>0.95000</td>\n",
       "      <td>0.331</td>\n",
       "      <td>82625</td>\n",
       "      <td>0.225</td>\n",
       "      <td>0.123000</td>\n",
       "      <td>F</td>\n",
       "      <td>0.2020</td>\n",
       "      <td>-21.150</td>\n",
       "      <td>Major</td>\n",
       "      <td>0.0456</td>\n",
       "      <td>140.576</td>\n",
       "      <td>4/4</td>\n",
       "      <td>0.390</td>\n",
       "    </tr>\n",
       "    <tr>\n",
       "      <th>...</th>\n",
       "      <td>...</td>\n",
       "      <td>...</td>\n",
       "      <td>...</td>\n",
       "      <td>...</td>\n",
       "      <td>...</td>\n",
       "      <td>...</td>\n",
       "      <td>...</td>\n",
       "      <td>...</td>\n",
       "      <td>...</td>\n",
       "      <td>...</td>\n",
       "      <td>...</td>\n",
       "      <td>...</td>\n",
       "      <td>...</td>\n",
       "      <td>...</td>\n",
       "      <td>...</td>\n",
       "      <td>...</td>\n",
       "      <td>...</td>\n",
       "      <td>...</td>\n",
       "    </tr>\n",
       "    <tr>\n",
       "      <th>232720</th>\n",
       "      <td>Soul</td>\n",
       "      <td>SLAVE</td>\n",
       "      <td>SON OF SLIDE</td>\n",
       "      <td>2XGLdVl7lGeq8ksM6Al7jT</td>\n",
       "      <td>39</td>\n",
       "      <td>0.00384</td>\n",
       "      <td>0.687</td>\n",
       "      <td>326240</td>\n",
       "      <td>0.714</td>\n",
       "      <td>0.544000</td>\n",
       "      <td>D</td>\n",
       "      <td>0.0845</td>\n",
       "      <td>-10.626</td>\n",
       "      <td>Major</td>\n",
       "      <td>0.0316</td>\n",
       "      <td>115.542</td>\n",
       "      <td>4/4</td>\n",
       "      <td>0.962</td>\n",
       "    </tr>\n",
       "    <tr>\n",
       "      <th>232721</th>\n",
       "      <td>Soul</td>\n",
       "      <td>JR THOMAS &amp; THE VOLCANOS</td>\n",
       "      <td>BURNING FIRE</td>\n",
       "      <td>1qWZdkBl4UVPj9lK6HuuFM</td>\n",
       "      <td>38</td>\n",
       "      <td>0.03290</td>\n",
       "      <td>0.785</td>\n",
       "      <td>282447</td>\n",
       "      <td>0.683</td>\n",
       "      <td>0.000880</td>\n",
       "      <td>E</td>\n",
       "      <td>0.2370</td>\n",
       "      <td>-6.944</td>\n",
       "      <td>Minor</td>\n",
       "      <td>0.0337</td>\n",
       "      <td>113.830</td>\n",
       "      <td>4/4</td>\n",
       "      <td>0.969</td>\n",
       "    </tr>\n",
       "    <tr>\n",
       "      <th>232722</th>\n",
       "      <td>Soul</td>\n",
       "      <td>MUDDY WATERS</td>\n",
       "      <td>(I'M YOUR) HOOCHIE COOCHIE MAN</td>\n",
       "      <td>2ziWXUmQLrXTiYjCg2fZ2t</td>\n",
       "      <td>47</td>\n",
       "      <td>0.90100</td>\n",
       "      <td>0.517</td>\n",
       "      <td>166960</td>\n",
       "      <td>0.419</td>\n",
       "      <td>0.000000</td>\n",
       "      <td>D</td>\n",
       "      <td>0.0945</td>\n",
       "      <td>-8.282</td>\n",
       "      <td>Major</td>\n",
       "      <td>0.1480</td>\n",
       "      <td>84.135</td>\n",
       "      <td>4/4</td>\n",
       "      <td>0.813</td>\n",
       "    </tr>\n",
       "    <tr>\n",
       "      <th>232723</th>\n",
       "      <td>Soul</td>\n",
       "      <td>R.LUM.R</td>\n",
       "      <td>WITH MY WORDS</td>\n",
       "      <td>6EFsue2YbIG4Qkq8Zr9Rir</td>\n",
       "      <td>44</td>\n",
       "      <td>0.26200</td>\n",
       "      <td>0.745</td>\n",
       "      <td>222442</td>\n",
       "      <td>0.704</td>\n",
       "      <td>0.000000</td>\n",
       "      <td>A</td>\n",
       "      <td>0.3330</td>\n",
       "      <td>-7.137</td>\n",
       "      <td>Major</td>\n",
       "      <td>0.1460</td>\n",
       "      <td>100.031</td>\n",
       "      <td>4/4</td>\n",
       "      <td>0.489</td>\n",
       "    </tr>\n",
       "    <tr>\n",
       "      <th>232724</th>\n",
       "      <td>Soul</td>\n",
       "      <td>MINT CONDITION</td>\n",
       "      <td>YOU DON'T HAVE TO HURT NO MORE</td>\n",
       "      <td>34XO9RwPMKjbvRry54QzWn</td>\n",
       "      <td>35</td>\n",
       "      <td>0.09730</td>\n",
       "      <td>0.758</td>\n",
       "      <td>323027</td>\n",
       "      <td>0.470</td>\n",
       "      <td>0.000049</td>\n",
       "      <td>G#</td>\n",
       "      <td>0.0836</td>\n",
       "      <td>-6.708</td>\n",
       "      <td>Minor</td>\n",
       "      <td>0.0287</td>\n",
       "      <td>113.897</td>\n",
       "      <td>4/4</td>\n",
       "      <td>0.479</td>\n",
       "    </tr>\n",
       "  </tbody>\n",
       "</table>\n",
       "<p>232725 rows × 18 columns</p>\n",
       "</div>"
      ],
      "text/plain": [
       "        genre               artist_name                        track_name  \\\n",
       "0       Movie            HENRI SALVADOR       C'EST BEAU DE FAIRE UN SHOW   \n",
       "1       Movie         MARTIN & LES FÉES  PERDU D'AVANCE (PAR GAD ELMALEH)   \n",
       "2       Movie           JOSEPH WILLIAMS    DON'T LET ME BE LONELY TONIGHT   \n",
       "3       Movie            HENRI SALVADOR    DIS-MOI MONSIEUR GORDON COOPER   \n",
       "4       Movie              FABIEN NATAF                         OUVERTURE   \n",
       "...       ...                       ...                               ...   \n",
       "232720   Soul                     SLAVE                      SON OF SLIDE   \n",
       "232721   Soul  JR THOMAS & THE VOLCANOS                      BURNING FIRE   \n",
       "232722   Soul              MUDDY WATERS    (I'M YOUR) HOOCHIE COOCHIE MAN   \n",
       "232723   Soul                   R.LUM.R                     WITH MY WORDS   \n",
       "232724   Soul            MINT CONDITION    YOU DON'T HAVE TO HURT NO MORE   \n",
       "\n",
       "                      track_id  popularity  acousticness  danceability  \\\n",
       "0       0BRjO6ga9RKCKjfDqeFgWV           0       0.61100         0.389   \n",
       "1       0BjC1NfoEOOusryehmNudP           1       0.24600         0.590   \n",
       "2       0CoSDzoNIKCRs124s9uTVy           3       0.95200         0.663   \n",
       "3       0Gc6TVm52BwZD07Ki6tIvf           0       0.70300         0.240   \n",
       "4       0IuslXpMROHdEPvSl1fTQK           4       0.95000         0.331   \n",
       "...                        ...         ...           ...           ...   \n",
       "232720  2XGLdVl7lGeq8ksM6Al7jT          39       0.00384         0.687   \n",
       "232721  1qWZdkBl4UVPj9lK6HuuFM          38       0.03290         0.785   \n",
       "232722  2ziWXUmQLrXTiYjCg2fZ2t          47       0.90100         0.517   \n",
       "232723  6EFsue2YbIG4Qkq8Zr9Rir          44       0.26200         0.745   \n",
       "232724  34XO9RwPMKjbvRry54QzWn          35       0.09730         0.758   \n",
       "\n",
       "        duration_ms  energy  instrumentalness key  liveness  loudness   mode  \\\n",
       "0             99373   0.910          0.000000  C#    0.3460    -1.828  Major   \n",
       "1            137373   0.737          0.000000  F#    0.1510    -5.559  Minor   \n",
       "2            170267   0.131          0.000000   C    0.1030   -13.879  Minor   \n",
       "3            152427   0.326          0.000000  C#    0.0985   -12.178  Major   \n",
       "4             82625   0.225          0.123000   F    0.2020   -21.150  Major   \n",
       "...             ...     ...               ...  ..       ...       ...    ...   \n",
       "232720       326240   0.714          0.544000   D    0.0845   -10.626  Major   \n",
       "232721       282447   0.683          0.000880   E    0.2370    -6.944  Minor   \n",
       "232722       166960   0.419          0.000000   D    0.0945    -8.282  Major   \n",
       "232723       222442   0.704          0.000000   A    0.3330    -7.137  Major   \n",
       "232724       323027   0.470          0.000049  G#    0.0836    -6.708  Minor   \n",
       "\n",
       "        speechiness    tempo time_signature  valence  \n",
       "0            0.0525  166.969            4/4    0.814  \n",
       "1            0.0868  174.003            4/4    0.816  \n",
       "2            0.0362   99.488            5/4    0.368  \n",
       "3            0.0395  171.758            4/4    0.227  \n",
       "4            0.0456  140.576            4/4    0.390  \n",
       "...             ...      ...            ...      ...  \n",
       "232720       0.0316  115.542            4/4    0.962  \n",
       "232721       0.0337  113.830            4/4    0.969  \n",
       "232722       0.1480   84.135            4/4    0.813  \n",
       "232723       0.1460  100.031            4/4    0.489  \n",
       "232724       0.0287  113.897            4/4    0.479  \n",
       "\n",
       "[232725 rows x 18 columns]"
      ]
     },
     "execution_count": 12,
     "metadata": {},
     "output_type": "execute_result"
    }
   ],
   "source": [
    "sp_df"
   ]
  },
  {
   "cell_type": "code",
   "execution_count": null,
   "metadata": {},
   "outputs": [],
   "source": [
    "sp_df.dtypes"
   ]
  },
  {
   "cell_type": "code",
   "execution_count": null,
   "metadata": {},
   "outputs": [],
   "source": [
    "sp_df.info()"
   ]
  },
  {
   "cell_type": "code",
   "execution_count": null,
   "metadata": {},
   "outputs": [],
   "source": [
    "sp_df.shape"
   ]
  },
  {
   "cell_type": "code",
   "execution_count": null,
   "metadata": {},
   "outputs": [],
   "source": [
    "sp_df['genre'].values[0]"
   ]
  },
  {
   "cell_type": "code",
   "execution_count": null,
   "metadata": {},
   "outputs": [],
   "source": [
    "sp_df['artist_name'].values[0]"
   ]
  },
  {
   "cell_type": "code",
   "execution_count": null,
   "metadata": {},
   "outputs": [],
   "source": [
    "sp_df[sp_df['artist_name']=='HARRY STYLES']"
   ]
  },
  {
   "cell_type": "code",
   "execution_count": null,
   "metadata": {},
   "outputs": [],
   "source": [
    "sp_df[sp_df['id']=='5Q0Nhxo0l2bP3pNjpGJwV1'].nunique()"
   ]
  },
  {
   "cell_type": "code",
   "execution_count": null,
   "metadata": {},
   "outputs": [],
   "source": [
    "id_genres = sp_df.groupby('id')['genre'].apply(list).reset_index()"
   ]
  },
  {
   "cell_type": "code",
   "execution_count": null,
   "metadata": {},
   "outputs": [],
   "source": [
    "id_popularity = sp_df.groupby('id')['popularity'].apply(list).reset_index()"
   ]
  },
  {
   "cell_type": "code",
   "execution_count": null,
   "metadata": {},
   "outputs": [],
   "source": [
    "id_genres"
   ]
  },
  {
   "cell_type": "code",
   "execution_count": null,
   "metadata": {},
   "outputs": [],
   "source": [
    "id_popularity"
   ]
  },
  {
   "cell_type": "code",
   "execution_count": null,
   "metadata": {},
   "outputs": [],
   "source": [
    "sp_df.drop(['genre','popularity'], axis=1, inplace=True)"
   ]
  },
  {
   "cell_type": "code",
   "execution_count": null,
   "metadata": {},
   "outputs": [],
   "source": [
    "sp_df.drop_duplicates(inplace=True)"
   ]
  },
  {
   "cell_type": "code",
   "execution_count": null,
   "metadata": {},
   "outputs": [],
   "source": [
    "sp_df=sp_df.merge(id_genres[['id','genre']], on = 'id',how = 'left')\n",
    "sp_df=sp_df.merge(id_popularity[['id','popularity']], on = 'id',how = 'left')\n"
   ]
  },
  {
   "cell_type": "code",
   "execution_count": null,
   "metadata": {},
   "outputs": [],
   "source": [
    "sp_df.head()"
   ]
  },
  {
   "cell_type": "code",
   "execution_count": null,
   "metadata": {},
   "outputs": [],
   "source": [
    "sp_df['mean_popularity'] = [np.array(x).mean() for x in sp_df.popularity.values]"
   ]
  },
  {
   "cell_type": "code",
   "execution_count": null,
   "metadata": {},
   "outputs": [],
   "source": [
    "float_cols = sp_df.dtypes[sp_df.dtypes == 'float64'].index.values"
   ]
  },
  {
   "cell_type": "code",
   "execution_count": null,
   "metadata": {},
   "outputs": [],
   "source": [
    "ohecol = 'mean_popularity'"
   ]
  },
  {
   "cell_type": "code",
   "execution_count": null,
   "metadata": {},
   "outputs": [],
   "source": [
    "sp_df['mean_popularity'].describe()"
   ]
  },
  {
   "cell_type": "code",
   "execution_count": null,
   "metadata": {},
   "outputs": [],
   "source": [
    "sp_df['tempo'].describe()"
   ]
  },
  {
   "cell_type": "code",
   "execution_count": null,
   "metadata": {},
   "outputs": [],
   "source": [
    "sp_df['popularitybucket'] = sp_df['mean_popularity'].apply(lambda x: int(x/5))"
   ]
  },
  {
   "cell_type": "code",
   "execution_count": null,
   "metadata": {},
   "outputs": [],
   "source": [
    "sp_df.loc[ sp_df['tempo'] <= 30.00, 'cat_tempo'] = 0\n",
    "sp_df.loc[(sp_df['tempo'] > 30.00) & (sp_df['tempo'] <= 40.00), 'cat_tempo'] = 1\n",
    "sp_df.loc[(sp_df['tempo'] > 40.00) & (sp_df['tempo'] <= 60.0), 'cat_tempo']   = 2\n",
    "sp_df.loc[(sp_df['tempo'] > 60.00) & (sp_df['tempo'] <= 66.00), 'cat_tempo']   = 3\n",
    "sp_df.loc[(sp_df['tempo'] > 66.00) & (sp_df['tempo'] <= 80.00), 'cat_tempo']   = 4\n",
    "sp_df.loc[(sp_df['tempo'] > 80.00) & (sp_df['tempo'] <= 108.00), 'cat_tempo']   = 5\n",
    "sp_df.loc[(sp_df['tempo'] > 108.00) & (sp_df['tempo'] <= 124.00), 'cat_tempo']   = 6\n",
    "sp_df.loc[(sp_df['tempo'] > 124.00) & (sp_df['tempo'] <= 168.00), 'cat_tempo']   = 7\n",
    "sp_df.loc[(sp_df['tempo'] > 168.00) & (sp_df['tempo'] <= 176.00), 'cat_tempo']   = 8\n",
    "sp_df.loc[(sp_df['tempo'] > 176.00) & (sp_df['tempo'] <= 200.00), 'cat_tempo']   = 9\n",
    "sp_df.loc[ sp_df['tempo'] > 200, 'cat_tempo'] = 10\n",
    "sp_df['cat_tempo'] = sp_df['cat_tempo'].astype(int)"
   ]
  },
  {
   "cell_type": "code",
   "execution_count": null,
   "metadata": {},
   "outputs": [],
   "source": [
    "sp_df"
   ]
  },
  {
   "cell_type": "code",
   "execution_count": null,
   "metadata": {},
   "outputs": [],
   "source": [
    "sp_df.info()"
   ]
  },
  {
   "cell_type": "code",
   "execution_count": null,
   "metadata": {},
   "outputs": [],
   "source": [
    "def ohe_prep(df, column, new_name): \n",
    "    tf_df = pd.get_dummies(df[column])\n",
    "    feature_names = tf_df.columns\n",
    "    tf_df.columns = [new_name + \"|\" + str(i) for i in feature_names]\n",
    "    tf_df.reset_index(drop = True, inplace = True)    \n",
    "    return tf_df"
   ]
  },
  {
   "cell_type": "code",
   "execution_count": null,
   "metadata": {},
   "outputs": [],
   "source": [
    "def create_feature_set(df, float_cols):\n",
    "    tfidf = TfidfVectorizer()\n",
    "    tfidf_matrix =  tfidf.fit_transform(sp_df['genre'].apply(lambda x: \" \".join(x)))\n",
    "    genre_df = pd.DataFrame(tfidf_matrix.toarray())\n",
    "    genre_df.columns = ['genre' + \"|\" + i for i in tfidf.get_feature_names()]\n",
    "    genre_df.reset_index(drop = True, inplace=True)\n",
    "\n",
    "    tempo_ohe = ohe_prep(df, 'cat_tempo','ctempo') * 0.5\n",
    "    popularity_ohe = ohe_prep(sp_df, 'popularitybucket','pbucket') * 0.15\n",
    "\n",
    "    #scale float columns\n",
    "    floats = df[float_cols].reset_index(drop = True)\n",
    "    scaler = MinMaxScaler()\n",
    "    floats_scaled = pd.DataFrame(scaler.fit_transform(floats), columns = floats.columns) * 0.2\n",
    "\n",
    "    #concanenate all features\n",
    "    final = pd.concat([genre_df, floats_scaled, popularity_ohe,tempo_ohe], axis = 1)\n",
    "     \n",
    "    #add song id\n",
    "    final['id']=sp_df['id'].values\n",
    "    \n",
    "    return final"
   ]
  },
  {
   "cell_type": "code",
   "execution_count": null,
   "metadata": {},
   "outputs": [],
   "source": [
    "complete_feature_set = create_feature_set(sp_df, float_cols=float_cols)"
   ]
  },
  {
   "cell_type": "code",
   "execution_count": null,
   "metadata": {},
   "outputs": [],
   "source": [
    "with pd.option_context('display.max_rows', None, 'display.max_columns', None):  # more options can be specified also\n",
    "    print(complete_feature_set.head(5))\n"
   ]
  },
  {
   "cell_type": "code",
   "execution_count": null,
   "metadata": {},
   "outputs": [],
   "source": [
    "clientid='8bcfe563f2b4441290539a7e4a4f0d9c'\n",
    "clientsecret='b01eb6f1b11840b8a1d310f2f402c4fe'"
   ]
  },
  {
   "cell_type": "code",
   "execution_count": null,
   "metadata": {},
   "outputs": [],
   "source": [
    "scope = 'user-library-read'\n",
    "\n",
    "if len(sys.argv) > 1:\n",
    "    username = sys.argv[1]\n",
    "else:\n",
    "    print(\"Usage: %s username\" % (sys.argv[0],))\n",
    "    sys.exit()"
   ]
  },
  {
   "cell_type": "code",
   "execution_count": null,
   "metadata": {},
   "outputs": [],
   "source": [
    "auth_manager = SpotifyClientCredentials(client_id=clientid, client_secret=clientsecret)\n",
    "sp = spotipy.Spotify(auth_manager=auth_manager)"
   ]
  },
  {
   "cell_type": "code",
   "execution_count": null,
   "metadata": {},
   "outputs": [],
   "source": [
    "token = util.prompt_for_user_token(scope, client_id= clientid, client_secret=clientsecret, redirect_uri='http://localhost:8881/')"
   ]
  },
  {
   "cell_type": "code",
   "execution_count": null,
   "metadata": {},
   "outputs": [],
   "source": [
    "sp = spotipy.Spotify(auth=token)"
   ]
  },
  {
   "cell_type": "code",
   "execution_count": null,
   "metadata": {},
   "outputs": [],
   "source": [
    "id_name = {}\n",
    "list_photo = {}\n",
    "for i in sp.current_user_playlists()['items']:\n",
    "\n",
    "    id_name[i['name']] = i['uri'].split(':')[2]\n",
    "    list_photo[i['uri'].split(':')[2]] = i['images'][0]['url']"
   ]
  },
  {
   "cell_type": "code",
   "execution_count": null,
   "metadata": {},
   "outputs": [],
   "source": [
    "id_name"
   ]
  },
  {
   "cell_type": "code",
   "execution_count": null,
   "metadata": {},
   "outputs": [],
   "source": [
    "def create_necessary_outputs(playlist_name,id_dic, df):    \n",
    "\n",
    "    playlist = pd.DataFrame()\n",
    "    playlist_name = playlist_name\n",
    "    for ix, i in enumerate(sp.playlist(id_dic[playlist_name])['tracks']['items']):\n",
    "       \n",
    "        playlist.loc[ix, 'artist'] = i['track']['artists'][0]['name']\n",
    "        playlist.loc[ix, 'name'] = i['track']['name']\n",
    "        playlist.loc[ix, 'id'] = i['track']['id'] # ['uri'].split(':')[2]\n",
    "        playlist.loc[ix, 'url'] = i['track']['album']['images'][1]['url']\n",
    "        playlist.loc[ix, 'date_added'] = i['added_at']\n",
    "\n",
    "    playlist['date_added'] = pd.to_datetime(playlist['date_added'])  \n",
    "    \n",
    "    playlist = playlist[playlist['id'].isin(df['id'].values)].sort_values('date_added',ascending = False)\n",
    "    \n",
    "    return playlist"
   ]
  },
  {
   "cell_type": "code",
   "execution_count": null,
   "metadata": {},
   "outputs": [],
   "source": [
    "playlist_mine = create_necessary_outputs('Mixed Feelings',id_name,sp_df)"
   ]
  },
  {
   "cell_type": "code",
   "execution_count": null,
   "metadata": {},
   "outputs": [],
   "source": [
    "from skimage import io\n",
    "import matplotlib.pyplot as plt\n",
    "\n",
    "def visualize_songs(df):\n",
    "\n",
    "    temp = df['url'].values\n",
    "    plt.figure(figsize=(15,int(0.625 * len(temp))))\n",
    "    columns = 5\n",
    "    \n",
    "    for i, url in enumerate(temp):\n",
    "        plt.subplot(len(temp) / columns + 1, columns, i + 1)\n",
    "\n",
    "        image = io.imread(url)\n",
    "        plt.imshow(image)\n",
    "        plt.xticks(color = 'w', fontsize = 0.1)\n",
    "        plt.yticks(color = 'w', fontsize = 0.1)\n",
    "        plt.xlabel(df['name'].values[i], fontsize = 12)\n",
    "        plt.tight_layout(h_pad=0.4, w_pad=0)\n",
    "        plt.subplots_adjust(wspace=None, hspace=None)\n",
    "\n",
    "    plt.show()"
   ]
  },
  {
   "cell_type": "code",
   "execution_count": null,
   "metadata": {},
   "outputs": [],
   "source": [
    "playlist_mine"
   ]
  },
  {
   "cell_type": "code",
   "execution_count": null,
   "metadata": {},
   "outputs": [],
   "source": [
    "visualize_songs(playlist_mine)"
   ]
  },
  {
   "cell_type": "code",
   "execution_count": null,
   "metadata": {},
   "outputs": [],
   "source": [
    "def generate_playlist_feature(complete_feature_set, playlist_df, weight_factor):\n",
    "    \"\"\" \n",
    "    Summarize a user's playlist into a single vector\n",
    "\n",
    "    Parameters: \n",
    "        complete_feature_set (pandas dataframe): Dataframe which includes all of the features for the spotify songs\n",
    "        playlist_df (pandas dataframe): playlist dataframe\n",
    "        weight_factor (float): float value that represents the recency bias. The larger the recency bias, the most priority recent songs get. Value should be close to 1. \n",
    "        \n",
    "    Returns: \n",
    "        playlist_feature_set_weighted_final (pandas series): single feature that summarizes the playlist\n",
    "        complete_feature_set_nonplaylist (pandas dataframe): \n",
    "    \"\"\"\n",
    "    \n",
    "    complete_feature_set_playlist = complete_feature_set[complete_feature_set['id'].isin(playlist_df['id'].values)]#.drop('id', axis = 1).mean(axis =0)\n",
    "    complete_feature_set_playlist = complete_feature_set_playlist.merge(playlist_df[['id','date_added']], on = 'id', how = 'inner')\n",
    "    complete_feature_set_nonplaylist = complete_feature_set[~complete_feature_set['id'].isin(playlist_df['id'].values)]#.drop('id', axis = 1)\n",
    "    \n",
    "    playlist_feature_set = complete_feature_set_playlist.sort_values('date_added',ascending=False)\n",
    "\n",
    "    most_recent_date = playlist_feature_set.iloc[0,-1]\n",
    "    \n",
    "    for ix, row in playlist_feature_set.iterrows():\n",
    "        playlist_feature_set.loc[ix,'months_from_recent'] = int((most_recent_date.to_pydatetime() - row.iloc[-1].to_pydatetime()).days / 30)\n",
    "        \n",
    "    playlist_feature_set['weight'] = playlist_feature_set['months_from_recent'].apply(lambda x: weight_factor ** (-x))\n",
    "    \n",
    "    playlist_feature_set_weighted = playlist_feature_set.copy()\n",
    "    #print(playlist_feature_set_weighted.iloc[:,:-4].columns)\n",
    "    playlist_feature_set_weighted.update(playlist_feature_set_weighted.iloc[:,:-4].mul(playlist_feature_set_weighted.weight,0))\n",
    "    playlist_feature_set_weighted_final = playlist_feature_set_weighted.iloc[:, :-4]\n",
    "    #playlist_feature_set_weighted_final['id'] = playlist_feature_set['id']\n",
    "    \n",
    "    return playlist_feature_set_weighted_final.sum(axis = 0), complete_feature_set_nonplaylist"
   ]
  },
  {
   "cell_type": "code",
   "execution_count": null,
   "metadata": {},
   "outputs": [],
   "source": [
    "complete_feature_set_playlist_vector_mine, complete_feature_set_nonplaylist_mine = generate_playlist_feature(complete_feature_set, playlist_mine, 1.09)"
   ]
  },
  {
   "cell_type": "code",
   "execution_count": null,
   "metadata": {},
   "outputs": [],
   "source": [
    "complete_feature_set_playlist_vector_mine.shape"
   ]
  },
  {
   "cell_type": "code",
   "execution_count": null,
   "metadata": {},
   "outputs": [],
   "source": [
    "def generate_playlist_recos(df, features, nonplaylist_features):\n",
    "    \"\"\" \n",
    "    Pull songs from a specific playlist.\n",
    "\n",
    "    Parameters: \n",
    "        df (pandas dataframe): spotify dataframe\n",
    "        features (pandas series): summarized playlist feature\n",
    "        nonplaylist_features (pandas dataframe): feature set of songs that are not in the selected playlist\n",
    "        \n",
    "    Returns: \n",
    "        non_playlist_df_top_40: Top 40 recommendations for that playlist\n",
    "    \"\"\"\n",
    "    \n",
    "    non_playlist_df = df[df['id'].isin(nonplaylist_features['id'].values)]\n",
    "    non_playlist_df['sim'] = cosine_similarity(nonplaylist_features.drop('id', axis = 1).values, features.values.reshape(1, -1))[:,0]\n",
    "    non_playlist_df_top_40 = non_playlist_df.sort_values('sim',ascending = False).head(40)\n",
    "    non_playlist_df_top_40['url'] = non_playlist_df_top_40['id'].apply(lambda x: sp.track(x)['album']['images'][1]['url'])\n",
    "    \n",
    "    return non_playlist_df_top_40"
   ]
  },
  {
   "cell_type": "code",
   "execution_count": null,
   "metadata": {},
   "outputs": [],
   "source": [
    "mine_top40 = generate_playlist_recos(sp_df, complete_feature_set_playlist_vector_mine, complete_feature_set_nonplaylist_mine)"
   ]
  },
  {
   "cell_type": "code",
   "execution_count": null,
   "metadata": {},
   "outputs": [],
   "source": []
  }
 ],
 "metadata": {
  "kernelspec": {
   "display_name": "Python 3",
   "language": "python",
   "name": "python3"
  },
  "language_info": {
   "codemirror_mode": {
    "name": "ipython",
    "version": 3
   },
   "file_extension": ".py",
   "mimetype": "text/x-python",
   "name": "python",
   "nbconvert_exporter": "python",
   "pygments_lexer": "ipython3",
   "version": "3.8.3"
  }
 },
 "nbformat": 4,
 "nbformat_minor": 4
}
